{
 "cells": [
  {
   "cell_type": "code",
   "execution_count": 2,
   "metadata": {},
   "outputs": [],
   "source": [
    "import pandas as pd\n",
    "from sklearn.preprocessing import StandardScaler\n",
    "from sklearn.ensemble import RandomForestClassifier\n",
    "from sklearn.model_selection import train_test_split\n",
    "from sklearn.metrics import accuracy_score\n",
    "import joblib"
   ]
  },
  {
   "cell_type": "code",
   "execution_count": 8,
   "metadata": {},
   "outputs": [
    {
     "name": "stdout",
     "output_type": "stream",
     "text": [
      "Model Accuracy: 0.95\n"
     ]
    }
   ],
   "source": [
    "import os\n",
    "# Define a function to preprocess input data\n",
    "def preprocess_input(data):\n",
    "    # Handle missing values\n",
    "    data.dropna(inplace=True)\n",
    "    \n",
    "    # Encode categorical variables\n",
    "    data = pd.get_dummies(data, columns=['Soil Type', 'Crop Type'])\n",
    "    \n",
    "    # Normalize numerical variables\n",
    "    scaler = StandardScaler()\n",
    "    numerical_cols = ['Temparature', 'Humidity', 'Moisture', 'Nitrogen', 'Potassium', 'Phosphorous']\n",
    "    data[numerical_cols] = scaler.fit_transform(data[numerical_cols])\n",
    "    \n",
    "    return data\n",
    "\n",
    "# Load the dataset and preprocess it\n",
    "data = pd.read_csv(r'C:\\Users\\USER\\Downloads\\minipro\\fertilizer\\Fertilizer Prediction.csv')\n",
    "processed_data = preprocess_input(data)\n",
    "\n",
    "# Split data into features and target variable\n",
    "X = processed_data.drop(columns=['Fertilizer Name'])\n",
    "y = processed_data['Fertilizer Name']\n",
    "\n",
    "# Split data into training and testing sets\n",
    "X_train, X_test, y_train, y_test = train_test_split(X, y, test_size=0.2, random_state=42)\n",
    "\n",
    "# Train the RandomForestClassifier model\n",
    "model = RandomForestClassifier(n_estimators=100, random_state=42)\n",
    "model.fit(X_train, y_train)\n",
    "\n",
    "# Evaluate the model\n",
    "y_pred = model.predict(X_test)\n",
    "accuracy = accuracy_score(y_test, y_pred)\n",
    "print(\"Model Accuracy:\", accuracy)\n",
    "\n"
   ]
  },
  {
   "cell_type": "code",
   "execution_count": 9,
   "metadata": {},
   "outputs": [
    {
     "data": {
      "text/plain": [
       "['fertilizer_recommendation_model.pkl']"
      ]
     },
     "execution_count": 9,
     "metadata": {},
     "output_type": "execute_result"
    }
   ],
   "source": [
    "import os\n",
    "os.makedirs('model', exist_ok=True)\n",
    "joblib.dump(model, 'fertilizer_recommendation_model.pkl')"
   ]
  }
 ],
 "metadata": {
  "kernelspec": {
   "display_name": "myenv",
   "language": "python",
   "name": "myenv"
  },
  "language_info": {
   "codemirror_mode": {
    "name": "ipython",
    "version": 3
   },
   "file_extension": ".py",
   "mimetype": "text/x-python",
   "name": "python",
   "nbconvert_exporter": "python",
   "pygments_lexer": "ipython3",
   "version": "3.10.5"
  }
 },
 "nbformat": 4,
 "nbformat_minor": 2
}
